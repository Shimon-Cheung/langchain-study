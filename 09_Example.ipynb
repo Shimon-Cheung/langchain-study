{
 "cells": [
  {
   "cell_type": "markdown",
   "source": [
    "简介\n",
    "\n",
    "这是该 `LangChain` 极简入门系列的最后一讲。我们将利用过去9讲学习的知识，来完成一个具备完整功能集的LLM应用。该应用基于 `LangChain` 框架，以某 `PDF` 文件的内容为知识库，提供给用户基于该文件内容的问答能力。\n",
    "\n",
    "我们利用 `LangChain` 的QA chain，结合 `Chroma` 来实现PDF文档的语义化搜索。示例代码所引用的是[AWS Serverless\n",
    "Developer Guide](https://docs.aws.amazon.com/pdfs/serverless/latest/devguide/serverless-core.pdf)，该PDF文档共84页。\n",
    "\n",
    "本讲的完整代码请参考[10_Example.jpynb](./10_Example.ipynb)\n",
    "\n",
    "安装必要的 `Python` 包"
   ],
   "metadata": {
    "collapsed": false
   },
   "id": "5a7f2ed9f1135015"
  },
  {
   "cell_type": "code",
   "execution_count": null,
   "outputs": [],
   "source": [
    "!pip install langchain == 0.0.235 openai chromadb pymupdf tiktoken"
   ],
   "metadata": {
    "collapsed": false
   },
   "id": "17e63d5e08188c8d"
  },
  {
   "cell_type": "markdown",
   "source": [
    "设置OpenAI环境\n",
    "环境变量设置好key"
   ],
   "metadata": {
    "collapsed": false
   },
   "id": "1e54568af2d98c7a"
  },
  {
   "cell_type": "markdown",
   "source": [
    "下载PDF文件AWS Serverless Developer Guide"
   ],
   "metadata": {
    "collapsed": false
   },
   "id": "b09637f1681aee57"
  },
  {
   "cell_type": "code",
   "execution_count": 13,
   "outputs": [],
   "source": [
    "PDF_NAME = './file/demo.pdf'"
   ],
   "metadata": {
    "collapsed": false,
    "ExecuteTime": {
     "end_time": "2023-09-18T09:04:18.026362Z",
     "start_time": "2023-09-18T09:04:18.020277Z"
    }
   },
   "id": "66c2006bb5a62ee1"
  },
  {
   "cell_type": "markdown",
   "source": [
    "加载PDF文件"
   ],
   "metadata": {
    "collapsed": false
   },
   "id": "de22aeaf97e21ded"
  },
  {
   "cell_type": "code",
   "execution_count": 14,
   "outputs": [
    {
     "name": "stdout",
     "output_type": "stream",
     "text": [
      "There are 45 document(s) in ./file/demo.pdf.\n",
      "There are 67 characters in the first page of your document.\n"
     ]
    }
   ],
   "source": [
    "from langchain.document_loaders import PyMuPDFLoader\n",
    "\n",
    "docs = PyMuPDFLoader(PDF_NAME).load()\n",
    "\n",
    "print(f'There are {len(docs)} document(s) in {PDF_NAME}.')\n",
    "print(f'There are {len(docs[0].page_content)} characters in the first page of your document.')"
   ],
   "metadata": {
    "collapsed": false,
    "ExecuteTime": {
     "end_time": "2023-09-18T09:04:20.047616Z",
     "start_time": "2023-09-18T09:04:19.996909Z"
    }
   },
   "id": "c53ae4eda0c77e33"
  },
  {
   "cell_type": "markdown",
   "source": [
    "拆分文档并存储文本嵌入的向量数据"
   ],
   "metadata": {
    "collapsed": false
   },
   "id": "e347e751124d5c0b"
  },
  {
   "cell_type": "code",
   "execution_count": 15,
   "outputs": [],
   "source": [
    "from langchain.embeddings.openai import OpenAIEmbeddings\n",
    "from langchain.text_splitter import RecursiveCharacterTextSplitter\n",
    "from langchain.vectorstores import Chroma\n",
    "\n",
    "text_splitter = RecursiveCharacterTextSplitter(chunk_size=1000, chunk_overlap=200)\n",
    "split_docs = text_splitter.split_documents(docs)\n",
    "\n",
    "embeddings = OpenAIEmbeddings()\n",
    "\n",
    "vectorstore = Chroma.from_documents(split_docs, embeddings, collection_name=\"serverless_guide\")"
   ],
   "metadata": {
    "collapsed": false,
    "ExecuteTime": {
     "end_time": "2023-09-18T09:04:31.786458Z",
     "start_time": "2023-09-18T09:04:25.558891Z"
    }
   },
   "id": "cc0056c3bd5739b3"
  },
  {
   "cell_type": "markdown",
   "source": [
    "基于OpenAI创建QA链"
   ],
   "metadata": {
    "collapsed": false
   },
   "id": "387389d5acac4ed6"
  },
  {
   "cell_type": "code",
   "execution_count": 26,
   "outputs": [],
   "source": [
    "from langchain.llms import OpenAI\n",
    "from langchain.chains.question_answering import load_qa_chain\n",
    "\n",
    "llm = OpenAI(temperature=0)\n",
    "chain = load_qa_chain(llm, chain_type=\"stuff\")"
   ],
   "metadata": {
    "collapsed": false,
    "ExecuteTime": {
     "end_time": "2023-09-18T09:08:09.965382Z",
     "start_time": "2023-09-18T09:08:09.951647Z"
    }
   },
   "id": "8a8f9a3463035a1a"
  },
  {
   "cell_type": "markdown",
   "source": [
    "基于提问，进行相似性查询"
   ],
   "metadata": {
    "collapsed": false
   },
   "id": "734b1027c42ccbae"
  },
  {
   "cell_type": "code",
   "execution_count": 27,
   "outputs": [],
   "source": [
    "query = \"报价义务概览是什么?\"\n",
    "similar_docs = vectorstore.similarity_search(query, 5, include_metadata=True)"
   ],
   "metadata": {
    "collapsed": false,
    "ExecuteTime": {
     "end_time": "2023-09-18T09:08:12.576986Z",
     "start_time": "2023-09-18T09:08:11.691235Z"
    }
   },
   "id": "1f9a14a3d9e83608"
  },
  {
   "cell_type": "code",
   "execution_count": 28,
   "outputs": [
    {
     "data": {
      "text/plain": "[Document(page_content='3\\n一、做市商报价义务豁免........................................................................................23\\n二、做市服务激励.................................................................................................. 24\\n三、终止做市商做市服务........................................................................................24\\n四、终止开展做市业务........................................................................................... 24\\n五、日常监管......................................................................................................... 25\\n六、违规处理......................................................................................................... 25\\n第五章\\n风险管理......................................................................................................... 26\\n一、做市业务部门风险管理机制............................................................................. 26\\n二、公司层面风险管理机制.................................................................................... 27\\n第六章', metadata={'author': '', 'creationDate': \"D:20230918170220+09'02'\", 'creator': 'WPS 文字', 'file_path': './file/demo.pdf', 'format': 'PDF 1.7', 'keywords': '', 'modDate': \"D:20230918170220+09'02'\", 'page': 2, 'producer': 'macOS 版本13.5.2（版号22G91） Quartz PDFContext', 'source': './file/demo.pdf', 'subject': '', 'title': '', 'total_pages': 45, 'trapped': ''}),\n Document(page_content='11\\n商的做市服务情况，分为月度评价和年度综合评价。月度评价是\\n每个月（以下称考评月度或月度）对做市商的做市服务情况进行\\n考评。每个考评月度是从上个月 21 日至本月 20 日（每年第一个\\n考评月度是从上一年度 12 月 21 日至本年度 1 月 20 日）。为特\\n定基金提供做市服务的首个月度评价周期内，做市不满 10 个交\\n易日的做市商不参与当月月度评价。年度综合评价是每年 12 月\\n对做市商从上年度 12 月 21 日至本年度 12 月 20 日的做市服务情\\n况进行综合考评。\\n二、报价义务\\n（一）报价义务概览\\n考虑到不同类别基金产品在价格水平、流动性等方面的特性\\n差异，本所根据上市基金资产类别设置做市服务报价义务，具体\\n要求如表 1 所示：\\n表 1：不同资产类别上市基金的报价要求\\n最小申报\\n金额\\n最大买卖\\n价差\\n最小平均每笔\\n申报金额\\n最低集合竞价\\n参与率\\n最低连续竞\\n价参与率\\n股票型 ETF、\\n股票型 LOF\\n20 万元\\n1%\\n5 万元\\n80%\\n60%\\n债券 ETF\\n20 万元\\n0.50%\\n5 万元\\n80%\\n60%\\n交易型货币\\n市场基金\\n100 万元\\n0.01%\\n5 万元\\n80%\\n60%', metadata={'author': '', 'creationDate': \"D:20230918170220+09'02'\", 'creator': 'WPS 文字', 'file_path': './file/demo.pdf', 'format': 'PDF 1.7', 'keywords': '', 'modDate': \"D:20230918170220+09'02'\", 'page': 10, 'producer': 'macOS 版本13.5.2（版号22G91） Quartz PDFContext', 'source': './file/demo.pdf', 'subject': '', 'title': '', 'total_pages': 45, 'trapped': ''}),\n Document(page_content='23\\n八、评价结果的通告\\n本所向基金产品所属的基金管理人和相关做市商通告每月\\n度做市服务评价结果，供其参考。本所向市场公告做市商年度综\\n合评价结果。\\n第四章\\n权利、激励与监督管理\\n为提高做市商提供做市服务的积极性，本所在适当情形下豁\\n免做市商义务。此外，根据主做市服务评价结果，对主做市商给\\n予适当激励。\\n一、做市商报价义务豁免\\n出现下列情形之一，导致做市商无法继续提供做市服务的，\\n本所可以根据市场情况或者做市商申请，相应豁免做市商的做市\\n义务：\\n（一）基金交易价格（即最新成交价）达到涨停或跌停价格，\\n做市商可以仅提供单边报价；\\n（二）因不可抗力、意外事件或者技术故障等导致无法继续\\n提供做市服务，做市商可以暂停对部分或者全部基金产品提供做\\n市服务，并及时向本所报告；\\n（三）本所规定的其他情形。\\n前款规定的情形消失后，做市商应当立即恢复相应做市服务。\\n出现前款第（二）项规定情形，做市商应在当日 17:00 前向\\n本所提交书面豁免申请并说明原因。', metadata={'author': '', 'creationDate': \"D:20230918170220+09'02'\", 'creator': 'WPS 文字', 'file_path': './file/demo.pdf', 'format': 'PDF 1.7', 'keywords': '', 'modDate': \"D:20230918170220+09'02'\", 'page': 22, 'producer': 'macOS 版本13.5.2（版号22G91） Quartz PDFContext', 'source': './file/demo.pdf', 'subject': '', 'title': '', 'total_pages': 45, 'trapped': ''}),\n Document(page_content='2\\n目\\n录\\n说明及声明......................................................................................................................4\\n第一章\\n总体要求 ...................................................................................................... 4\\n一、概述.................................................................................................................. 4\\n二、组织架构与岗位设置..........................................................................................5\\n三、制度与流程........................................................................................................5\\n第二章\\n业务申请与受理流程.....................................................................................6\\n一、做市业务申请与受理..........................................................................................6\\n二、做市商申请为基金产品提供做市服务................................................................. 8\\n三、做市业务账户报备............................................................................................. 9', metadata={'author': '', 'creationDate': \"D:20230918170220+09'02'\", 'creator': 'WPS 文字', 'file_path': './file/demo.pdf', 'format': 'PDF 1.7', 'keywords': '', 'modDate': \"D:20230918170220+09'02'\", 'page': 1, 'producer': 'macOS 版本13.5.2（版号22G91） Quartz PDFContext', 'source': './file/demo.pdf', 'subject': '', 'title': '', 'total_pages': 45, 'trapped': ''}),\n Document(page_content='4\\n说明及声明\\n为规范上海证券交易所（以下简称本所）上市基金做市业务，\\n提高市场流动性，根据《上海证券交易所证券投资基金上市规则》\\n《上海证券交易所交易型开放式指数基金业务实施细则》《上海\\n证券交易所开放式基金业务管理办法》《上海证券交易所基金自\\n律监管规则适用指引第 2 号——上市基金做市业务》（以下简称\\n《基金做市指引》）及其他相关规定，制定本指南。本指南主要\\n内容包括基金做市业务的总体要求、业务申请条件与受理流程、\\n基金做市商的报价义务、权利、评价、风险管理、合规与内部控\\n制、监督管理等方面。本指南仅供基金做市商开展做市业务时参\\n考，如有内容与本所基金业务规则不一致，以本所基金业务规则\\n为准。本所将根据基金业务的进展情况，对本指南进行持续更新\\n和调整。\\n第一章\\n总体要求\\n一、概述\\n本指南所称做市服务，是指符合条件的证券公司及本所认可\\n的其他专业机构（以下统称做市商），按照《基金做市指引》的\\n规定，为本所上市基金提供的持续双边报价等做市服务。\\n本所对做市服务实施差异化管理，分为主做市服务和一般做\\n市服务。经本所认可，可以为本所上市基金提供主做市服务和一', metadata={'author': '', 'creationDate': \"D:20230918170220+09'02'\", 'creator': 'WPS 文字', 'file_path': './file/demo.pdf', 'format': 'PDF 1.7', 'keywords': '', 'modDate': \"D:20230918170220+09'02'\", 'page': 3, 'producer': 'macOS 版本13.5.2（版号22G91） Quartz PDFContext', 'source': './file/demo.pdf', 'subject': '', 'title': '', 'total_pages': 45, 'trapped': ''})]"
     },
     "execution_count": 28,
     "metadata": {},
     "output_type": "execute_result"
    }
   ],
   "source": [
    "similar_docs"
   ],
   "metadata": {
    "collapsed": false,
    "ExecuteTime": {
     "end_time": "2023-09-18T09:08:13.628965Z",
     "start_time": "2023-09-18T09:08:13.611074Z"
    }
   },
   "id": "f57aa158dcaeca60"
  },
  {
   "cell_type": "markdown",
   "source": [
    "基于相关文档，利用QA链完成回答"
   ],
   "metadata": {
    "collapsed": false
   },
   "id": "eb90ef739b75ae72"
  },
  {
   "cell_type": "code",
   "execution_count": 29,
   "outputs": [
    {
     "data": {
      "text/plain": "' 报价义务概览是本所根据上市基金资产类别设置做市服务报价义务的要求，具体要求如表1所示。'"
     },
     "execution_count": 29,
     "metadata": {},
     "output_type": "execute_result"
    }
   ],
   "source": [
    "chain.run(input_documents=similar_docs, question=query)"
   ],
   "metadata": {
    "collapsed": false,
    "ExecuteTime": {
     "end_time": "2023-09-18T09:08:19.953118Z",
     "start_time": "2023-09-18T09:08:16.463287Z"
    }
   },
   "id": "be4333daa640fd4c"
  }
 ],
 "metadata": {
  "kernelspec": {
   "display_name": "Python 3",
   "language": "python",
   "name": "python3"
  },
  "language_info": {
   "codemirror_mode": {
    "name": "ipython",
    "version": 2
   },
   "file_extension": ".py",
   "mimetype": "text/x-python",
   "name": "python",
   "nbconvert_exporter": "python",
   "pygments_lexer": "ipython2",
   "version": "2.7.6"
  }
 },
 "nbformat": 4,
 "nbformat_minor": 5
}
