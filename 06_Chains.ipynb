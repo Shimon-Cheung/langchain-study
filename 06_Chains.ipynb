{
 "cells": [
  {
   "cell_type": "markdown",
   "source": [
    "## 简介\n",
    "\n",
    "单一的LLM对于简单的应用场景已经足够，但是更复杂的应用程序需要将LLM串联在一起，需要多LLM协同工作。\n",
    "\n",
    "LangChain提出了 `链` 的概念，为这种“链式”应用程序提供了 **Chain** 接口。`Chain` 定义组件的调用序列，其中可以包括其他链。链大大简化复杂应用程序的实现，并使其模块化，这也使调试、维护和改进应用程序变得更容易。"
   ],
   "metadata": {
    "collapsed": false
   },
   "id": "aeda8a2bbb18c332"
  },
  {
   "cell_type": "markdown",
   "source": [
    "## 最基础的链 LLMChain\n",
    "\n",
    "作为极简教程，我们从最基础的概念，与组件开始。`LLMChain` 是 `LangChain` 中最基础的链。本课就从 `LLMChain` 开始，学习链的使用。\n",
    "\n",
    "`LLMChain` 接受如下组件：\n",
    "\n",
    "- LLM\n",
    "- 提示词模版\n",
    "\n",
    "`LLMChain` 返回LLM的回复。\n",
    "\n",
    "在[第二讲](../02_Models/README.md)中我们学习了OpenAI LLM的使用。现在我们基于OpenAI LLM，利用 `LLMChain` 尝试构建自己第一个链。\n",
    "\n",
    "1. 准备必要的组件"
   ],
   "metadata": {
    "collapsed": false
   },
   "id": "8fa0b4ac62d72a60"
  },
  {
   "cell_type": "code",
   "execution_count": 7,
   "outputs": [],
   "source": [
    "from langchain.llms import OpenAI\n",
    "from langchain.prompts import PromptTemplate\n",
    "\n",
    "llm = OpenAI(temperature=0)\n",
    "prompt = PromptTemplate(\n",
    "    input_variables=[\"color\"],\n",
    "    template=\"请问{color}的十六进制代码是什么？\",\n",
    ")"
   ],
   "metadata": {
    "collapsed": false,
    "ExecuteTime": {
     "end_time": "2023-09-17T13:21:43.727410800Z",
     "start_time": "2023-09-17T13:21:43.704204700Z"
    }
   },
   "id": "7a11709691fa72a9"
  },
  {
   "cell_type": "markdown",
   "source": [
    "2. 基于组件创建 `LLMChain` 实例\n",
    "\n",
    "我们要创建的链，基于提示词模版，提供基于颜色名字询问对应的16进制代码的能力。"
   ],
   "metadata": {
    "collapsed": false
   },
   "id": "c7a9cbb18a4d94e2"
  },
  {
   "cell_type": "code",
   "execution_count": 8,
   "outputs": [],
   "source": [
    "from langchain.chains import LLMChain\n",
    "\n",
    "chain = LLMChain(llm=llm, prompt=prompt)"
   ],
   "metadata": {
    "collapsed": false,
    "ExecuteTime": {
     "end_time": "2023-09-17T13:21:45.079074600Z",
     "start_time": "2023-09-17T13:21:45.069195400Z"
    }
   },
   "id": "a0147cc9386288e8"
  },
  {
   "cell_type": "markdown",
   "source": [
    "3. 基于链提问\n",
    "\n",
    "现在我们利用创建的 `LLMChain` 实例提问。注意，提问中我们只需要提供第一步中创建的提示词模版变量的值。我们分别提问green，cyan，magento三种颜色的16进制代码。"
   ],
   "metadata": {
    "collapsed": false
   },
   "id": "5d5e57c7c8911163"
  },
  {
   "cell_type": "code",
   "execution_count": 9,
   "outputs": [
    {
     "name": "stdout",
     "output_type": "stream",
     "text": [
      "\n",
      "\n",
      "绿色的十六进制代码是#008000。\n"
     ]
    },
    {
     "name": "stderr",
     "output_type": "stream",
     "text": [
      "Retrying langchain.llms.openai.completion_with_retry.<locals>._completion_with_retry in 4.0 seconds as it raised RateLimitError: Rate limit reached for default-text-davinci-003 in organization org-I2twdr48qhmkyMq6baOMFgJs on requests per min. Limit: 3 / min. Please try again in 20s. Contact us through our help center at help.openai.com if you continue to have issues. Please add a payment method to your account to increase your rate limit. Visit https://platform.openai.com/account/billing to add a payment method..\n"
     ]
    },
    {
     "name": "stdout",
     "output_type": "stream",
     "text": [
      "\n",
      "\n",
      "蓝色的十六进制代码是#0000FF。\n"
     ]
    },
    {
     "name": "stderr",
     "output_type": "stream",
     "text": [
      "Retrying langchain.llms.openai.completion_with_retry.<locals>._completion_with_retry in 4.0 seconds as it raised RateLimitError: Rate limit reached for default-text-davinci-003 in organization org-I2twdr48qhmkyMq6baOMFgJs on requests per min. Limit: 3 / min. Please try again in 20s. Contact us through our help center at help.openai.com if you continue to have issues. Please add a payment method to your account to increase your rate limit. Visit https://platform.openai.com/account/billing to add a payment method..\n",
      "Retrying langchain.llms.openai.completion_with_retry.<locals>._completion_with_retry in 4.0 seconds as it raised RateLimitError: Rate limit reached for default-text-davinci-003 in organization org-I2twdr48qhmkyMq6baOMFgJs on requests per min. Limit: 3 / min. Please try again in 20s. Contact us through our help center at help.openai.com if you continue to have issues. Please add a payment method to your account to increase your rate limit. Visit https://platform.openai.com/account/billing to add a payment method..\n",
      "Retrying langchain.llms.openai.completion_with_retry.<locals>._completion_with_retry in 4.0 seconds as it raised RateLimitError: Rate limit reached for default-text-davinci-003 in organization org-I2twdr48qhmkyMq6baOMFgJs on requests per min. Limit: 3 / min. Please try again in 20s. Contact us through our help center at help.openai.com if you continue to have issues. Please add a payment method to your account to increase your rate limit. Visit https://platform.openai.com/account/billing to add a payment method..\n",
      "Retrying langchain.llms.openai.completion_with_retry.<locals>._completion_with_retry in 8.0 seconds as it raised RateLimitError: Rate limit reached for default-text-davinci-003 in organization org-I2twdr48qhmkyMq6baOMFgJs on requests per min. Limit: 3 / min. Please try again in 20s. Contact us through our help center at help.openai.com if you continue to have issues. Please add a payment method to your account to increase your rate limit. Visit https://platform.openai.com/account/billing to add a payment method..\n"
     ]
    },
    {
     "name": "stdout",
     "output_type": "stream",
     "text": [
      "\n",
      "\n",
      "黄色的十六进制代码是#FFFF00。\n"
     ]
    }
   ],
   "source": [
    "print(chain.run(\"绿色\"))\n",
    "print(chain.run(\"蓝色\"))\n",
    "print(chain.run(\"黄色\"))"
   ],
   "metadata": {
    "collapsed": false,
    "ExecuteTime": {
     "end_time": "2023-09-17T13:22:17.013117600Z",
     "start_time": "2023-09-17T13:21:47.159268900Z"
    }
   },
   "id": "a88d05610678b18"
  }
 ],
 "metadata": {
  "kernelspec": {
   "display_name": "Python 3",
   "language": "python",
   "name": "python3"
  },
  "language_info": {
   "codemirror_mode": {
    "name": "ipython",
    "version": 2
   },
   "file_extension": ".py",
   "mimetype": "text/x-python",
   "name": "python",
   "nbconvert_exporter": "python",
   "pygments_lexer": "ipython2",
   "version": "2.7.6"
  }
 },
 "nbformat": 4,
 "nbformat_minor": 5
}
