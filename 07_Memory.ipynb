{
 "cells": [
  {
   "cell_type": "markdown",
   "source": [
    "## 简介\n",
    "\n",
    "大多数LLM应用都具有对话界面。对话的一个重要组成部分是对话历史中的信息。我们将这种存储对话历史中的信息的能力称为\"记忆\"。`LangChain` 提供了一系列记忆相关的实用工具。这些工具可以单独使用，也可以无缝地集成到一条链中。\n",
    "\n",
    "记忆组件需要支持\n",
    "\n",
    "- 读取\n",
    "- 写入\n",
    "\n",
    "注，每条链定义了核心执行逻辑，期望某些输入。一些输入来自用户，另一些可能来自记忆组件。在一次与LLM的交互中，链将与记忆组件交互两次：\n",
    "\n",
    "1. 接收到初始用户输入之后，执行核心逻辑之前，链从记忆组件读取历史，并以此增强用户输入。\n",
    "2. 执行核心逻辑之后，在返回回答之前，链把当前交互的输入和输出写入到记忆中，以便更新对话历史。\n",
    "\n",
    "## LangChain的记忆组件类型\n",
    "\n",
    "记忆组件需要解决两大问题：\n",
    "\n",
    "1. 历史如何存储？\n",
    "2. 历史如何查询？\n",
    "\n",
    "本讲通过 `LangChain` 提供的三种基本记忆组件类型 `ConversationBufferMemory`，`ConversationBufferWindowMemory`，`ConversationSummaryMemory`，介绍它们对于上述问题的解决方案，并分享使用方法。\n",
    "\n",
    "### ConversationBufferMemory\n",
    "\n",
    "`ConversationBufferMemory` 是 `LangChain` 提供的记忆组件类， 它如实地在列表中记录对话历史消息。\n",
    "\n",
    "#### 写入一次对话\n",
    "\n",
    "通过 `save_context` 函数来保存用户输入和模型输出。"
   ],
   "metadata": {
    "collapsed": false
   },
   "id": "a865e39f82305b5b"
  },
  {
   "cell_type": "code",
   "execution_count": 3,
   "outputs": [],
   "source": [
    "from langchain.memory import ConversationBufferMemory\n",
    "\n",
    "memory = ConversationBufferMemory()\n",
    "memory.save_context({\"input\": \"你好, LangChain!\"}, {\"output\": \"你好!\"})"
   ],
   "metadata": {
    "collapsed": false,
    "ExecuteTime": {
     "end_time": "2023-09-17T13:43:14.917850Z",
     "start_time": "2023-09-17T13:43:14.903707900Z"
    }
   },
   "id": "656848cff4b7c6d"
  },
  {
   "cell_type": "markdown",
   "source": [
    "`ConversationBufferMemory` 的 `chat_memory` 成员变量有一个 `messages` 变量。这是一个消息数组。通过如下代码查看消息对象列表"
   ],
   "metadata": {
    "collapsed": false
   },
   "id": "71e47d6f61a582ce"
  },
  {
   "cell_type": "code",
   "execution_count": 4,
   "outputs": [
    {
     "data": {
      "text/plain": "[HumanMessage(content='你好, LangChain!', additional_kwargs={}, example=False),\n AIMessage(content='你好!', additional_kwargs={}, example=False)]"
     },
     "execution_count": 4,
     "metadata": {},
     "output_type": "execute_result"
    }
   ],
   "source": [
    "memory.chat_memory.messages"
   ],
   "metadata": {
    "collapsed": false,
    "ExecuteTime": {
     "end_time": "2023-09-17T13:43:16.416750300Z",
     "start_time": "2023-09-17T13:43:16.401407100Z"
    }
   },
   "id": "360a09f0fef9475b"
  },
  {
   "cell_type": "markdown",
   "source": [
    "当我们需要生成对话历史的文本，作为变量嵌入提示词，可以通过调用函数 `load_memory_variables` 获得字典对象，其中的键 `history` 包含了对话历史的字符串值。如下："
   ],
   "metadata": {
    "collapsed": false
   },
   "id": "751cab6169f1b3d1"
  },
  {
   "cell_type": "code",
   "execution_count": 6,
   "outputs": [
    {
     "data": {
      "text/plain": "{'history': 'Human: 你好, LangChain!\\nAI: 你好!'}"
     },
     "execution_count": 6,
     "metadata": {},
     "output_type": "execute_result"
    }
   ],
   "source": [
    "memory.load_memory_variables({})"
   ],
   "metadata": {
    "collapsed": false,
    "ExecuteTime": {
     "end_time": "2023-09-17T13:45:37.547897300Z",
     "start_time": "2023-09-17T13:45:37.535109200Z"
    }
   },
   "id": "d780315bdcc8eda4"
  },
  {
   "cell_type": "markdown",
   "source": [
    "`ConversationBufferMemory` 的实现方式简单，在交互次数少，输入输出字符量不大的情况下，非常有效。但是当交互增加，字符数量增多，对话历史的字符数可能导致增强后的提示词tokens数超过上下文限制，最终导致模型调用失败。因此，`LangChain` 还提供了其他记忆组件类型。"
   ],
   "metadata": {
    "collapsed": false
   },
   "id": "4af508c9e9cd0c41"
  },
  {
   "cell_type": "markdown",
   "source": [
    "### ConversationBufferWindowMemory\n",
    "\n",
    "`ConversationBufferWindowMemory` 持续记录对话历史，但只使用最近的K个交互。这种滑动窗口的机制，确保缓存大小不会变得过大。\n",
    "\n",
    "用法如下：\n",
    "\n",
    "我们指定滑动窗口的大小为1，表示查询时只返回最近1次交互。"
   ],
   "metadata": {
    "collapsed": false
   },
   "id": "f16d77a3aae42dff"
  },
  {
   "cell_type": "code",
   "execution_count": 13,
   "outputs": [],
   "source": [
    "from langchain.memory import ConversationBufferWindowMemory\n",
    "\n",
    "memory = ConversationBufferWindowMemory(k=1)\n",
    "memory.save_context({\"input\": \"Hi, LangChain!\"}, {\"output\": \"Hey!\"})\n",
    "memory.save_context({\"input\": \"Where are you?\"}, {\"output\": \"By your side\"})"
   ],
   "metadata": {
    "collapsed": false,
    "ExecuteTime": {
     "end_time": "2023-09-17T13:50:05.340882300Z",
     "start_time": "2023-09-17T13:50:05.309523500Z"
    }
   },
   "id": "69f12e58ae3e60ad"
  },
  {
   "cell_type": "code",
   "execution_count": 14,
   "outputs": [
    {
     "data": {
      "text/plain": "{'history': 'Human: Where are you?\\nAI: By your side'}"
     },
     "execution_count": 14,
     "metadata": {},
     "output_type": "execute_result"
    }
   ],
   "source": [
    "memory.load_memory_variables({})"
   ],
   "metadata": {
    "collapsed": false,
    "ExecuteTime": {
     "end_time": "2023-09-17T13:50:06.810195900Z",
     "start_time": "2023-09-17T13:50:06.794410100Z"
    }
   },
   "id": "2bbaefd9ed96dab0"
  },
  {
   "cell_type": "code",
   "execution_count": 15,
   "outputs": [
    {
     "data": {
      "text/plain": "[HumanMessage(content='Hi, LangChain!', additional_kwargs={}, example=False),\n AIMessage(content='Hey!', additional_kwargs={}, example=False),\n HumanMessage(content='Where are you?', additional_kwargs={}, example=False),\n AIMessage(content='By your side', additional_kwargs={}, example=False)]"
     },
     "execution_count": 15,
     "metadata": {},
     "output_type": "execute_result"
    }
   ],
   "source": [
    "memory.chat_memory.messages  # 查看历史数据"
   ],
   "metadata": {
    "collapsed": false,
    "ExecuteTime": {
     "end_time": "2023-09-17T13:50:11.296841800Z",
     "start_time": "2023-09-17T13:50:11.252512Z"
    }
   },
   "id": "7a1bb6f03ee79026"
  },
  {
   "cell_type": "markdown",
   "source": [
    "### ConversationSummaryMemory\n",
    "\n",
    "`ConversationSummaryMemory` 是稍微复杂的记忆类型。这种记忆随着时间的推移总结对话的内容，并将当前的摘要存储在记忆中，然后在需要的时候将对话摘要注入提示词或链中。`ConversationSummaryMemory` 对于更长的对话交互很有用，因为将过去的历史记录逐字逐句放入提示词中会占用太多Token。\n",
    "\n",
    "注意，由于需要对于对话历史进行总结，生成摘要，因此 `ConversationSummaryMemory` 需要LLM的配合。我们在示例代码中将提供OpenAI的模型给 `ConversationSummaryMemory` 以生成摘要。\n",
    "\n",
    "用法如下："
   ],
   "metadata": {
    "collapsed": false
   },
   "id": "b5ed8dece270707a"
  },
  {
   "cell_type": "code",
   "execution_count": 16,
   "outputs": [
    {
     "data": {
      "text/plain": "{'history': '\\nThe human greets the AI, LangChain, to which the AI responds with a friendly \"Hey!\" The human then asks how to start with Next.js development, to which the AI responds with instructions to use the official developer guide, and provides a link when asked.'}"
     },
     "execution_count": 16,
     "metadata": {},
     "output_type": "execute_result"
    }
   ],
   "source": [
    "from langchain.memory import ConversationSummaryMemory\n",
    "from langchain.llms import OpenAI\n",
    "\n",
    "memory = ConversationSummaryMemory(llm=OpenAI(temperature=0))\n",
    "memory.save_context({\"input\": \"Hi, LangChain!\"}, {\"output\": \"Hey!\"})\n",
    "memory.save_context({\"input\": \"How to start with Next.js development?\"},\n",
    "                    {\"output\": \"You can get started with its official developer guide.\"})\n",
    "memory.save_context({\"input\": \"Show me the link of the guide.\"},\n",
    "                    {\"output\": \"I'm looking for you now. Please stand by!\"})\n",
    "\n",
    "memory.load_memory_variables({})"
   ],
   "metadata": {
    "collapsed": false,
    "ExecuteTime": {
     "end_time": "2023-09-17T13:51:52.964498900Z",
     "start_time": "2023-09-17T13:51:49.679610400Z"
    }
   },
   "id": "60ff297238de8c4e"
  }
 ],
 "metadata": {
  "kernelspec": {
   "display_name": "Python 3",
   "language": "python",
   "name": "python3"
  },
  "language_info": {
   "codemirror_mode": {
    "name": "ipython",
    "version": 2
   },
   "file_extension": ".py",
   "mimetype": "text/x-python",
   "name": "python",
   "nbconvert_exporter": "python",
   "pygments_lexer": "ipython2",
   "version": "2.7.6"
  }
 },
 "nbformat": 4,
 "nbformat_minor": 5
}
