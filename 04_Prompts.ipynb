{
 "cells": [
  {
   "cell_type": "markdown",
   "source": [
    "## 什么是提示词？\n",
    "\n",
    "提示词（`Prompt`）是指向模型提供的输入。这个输入通常由多个元素构成。`LangChain` 提供了一系列的类和函数，简化构建和处理提示词的过程。\n",
    "\n",
    "- 提示词模板（Prompt Template）：对提示词参数化，提高代码的重用性。\n",
    "- 示例选择器（Example Selector）：动态选择要包含在提示词中的示例"
   ],
   "metadata": {
    "collapsed": false
   },
   "id": "51680e823cd0044a"
  },
  {
   "cell_type": "markdown",
   "source": [
    "## 提示词模板\n",
    "\n",
    "提示词模板提供了可重用提示词的机制。用户通过传递一组参数给模板，实例化图一个提示词。一个提示模板可以包含：\n",
    "\n",
    "1. 对语言模型的指令\n",
    "2. 一组少样本示例，以帮助语言模型生成更好的回复\n",
    "3. 向语言模型提出的问题\n",
    "\n",
    "一个简单的例子："
   ],
   "metadata": {
    "collapsed": false
   },
   "id": "9bd72878050e72b"
  },
  {
   "cell_type": "code",
   "execution_count": 5,
   "outputs": [
    {
     "data": {
      "text/plain": "'\\n你精通多种语言，是专业的翻译官。你负责英文到中文的翻译工作。\\n'"
     },
     "execution_count": 5,
     "metadata": {},
     "output_type": "execute_result"
    }
   ],
   "source": [
    "from langchain import PromptTemplate\n",
    "\n",
    "template = \"\"\"\n",
    "你精通多种语言，是专业的翻译官。你负责{src_lang}到{dst_lang}的翻译工作。\n",
    "\"\"\"\n",
    "\n",
    "prompt = PromptTemplate.from_template(template)\n",
    "prompt.format(src_lang=\"英文\", dst_lang=\"中文\")"
   ],
   "metadata": {
    "collapsed": false,
    "ExecuteTime": {
     "end_time": "2023-09-11T13:19:15.652490200Z",
     "start_time": "2023-09-11T13:19:15.641488300Z"
    }
   },
   "id": "5882f5cc6a353fb0"
  },
  {
   "cell_type": "markdown",
   "source": [
    "## 创建模板\n",
    "\n",
    "`PromptTemplate` 类是 `LangChain` 提供的模版基础类，它接收两个参数：\n",
    "\n",
    "1. `input_variables` - 输入变量\n",
    "2. `template` - 模版\n",
    "\n",
    "模版中通过 `{}` 符号来引用输入变量，比如 `PromptTemplate(input_variables=[\"name\"], template=\"My name is {name}.\")`。\n",
    "\n",
    "模版的实例化通过模板类实例的 `format`函数实现。例子如下："
   ],
   "metadata": {
    "collapsed": false
   },
   "id": "cf665671b27b30f"
  },
  {
   "cell_type": "code",
   "execution_count": 6,
   "outputs": [
    {
     "data": {
      "text/plain": "'A black bear .'"
     },
     "execution_count": 6,
     "metadata": {},
     "output_type": "execute_result"
    }
   ],
   "source": [
    "multiple_input_prompt = PromptTemplate(\n",
    "    input_variables=[\"color\", \"animal\"],\n",
    "    template=\"A {color} {animal} .\"\n",
    ")\n",
    "multiple_input_prompt.format(color=\"black\", animal=\"bear\")"
   ],
   "metadata": {
    "collapsed": false,
    "ExecuteTime": {
     "end_time": "2023-09-11T13:21:28.712552800Z",
     "start_time": "2023-09-11T13:21:28.667843200Z"
    }
   },
   "id": "5c0d2bb950f49f"
  },
  {
   "cell_type": "markdown",
   "source": [
    "#### 聊天提示词模板\n",
    "\n",
    "聊天模型，比如 `OpenAI` 的GPT模型，接受一系列聊天消息作为输入，每条消息都与一个角色相关联。这个消息列表通常以一定格式串联，构成模型的输入，也就是提示词。\n",
    "\n",
    "例如，在OpenAI [Chat Completion API](https://platform.openai.com/docs/api-reference/chat/create)中，聊天消息可以与assistant、human或system角色相关联。\n",
    "\n",
    "为此，LangChain提供了一系列模板，以便更轻松地构建和处理提示词。建议在与聊天模型交互时优先选择使用这些与聊天相关的模板，而不是基础的PromptTemplate，以充分利用框架的优势，提高开发效率。`SystemMessagePromptTemplate`, `AIMessagePromptTemplate`, `HumanMessagePromptTemplate` 是分别用于创建不同角色提示词的模板。\n",
    "\n",
    "我们来看一个综合示例："
   ],
   "metadata": {
    "collapsed": false
   },
   "id": "b40dbfe809e701fc"
  },
  {
   "cell_type": "code",
   "execution_count": 7,
   "outputs": [
    {
     "data": {
      "text/plain": "[SystemMessage(content='You are a professional translator that translates English to Chinese.', additional_kwargs={}),\n HumanMessage(content='Did you eat in this morning?', additional_kwargs={}, example=False)]"
     },
     "execution_count": 7,
     "metadata": {},
     "output_type": "execute_result"
    }
   ],
   "source": [
    "from langchain.prompts import (\n",
    "    ChatPromptTemplate,\n",
    "    PromptTemplate,\n",
    "    SystemMessagePromptTemplate,\n",
    "    AIMessagePromptTemplate,\n",
    "    HumanMessagePromptTemplate,\n",
    ")\n",
    "from langchain.schema import (\n",
    "    AIMessage,\n",
    "    HumanMessage,\n",
    "    SystemMessage\n",
    ")\n",
    "\n",
    "system_template = \"You are a professional translator that translates {src_lang} to {dst_lang}.\"\n",
    "system_message_prompt = SystemMessagePromptTemplate.from_template(system_template)\n",
    "\n",
    "human_template = \"{user_input}\"\n",
    "human_message_prompt = HumanMessagePromptTemplate.from_template(human_template)\n",
    "\n",
    "chat_prompt = ChatPromptTemplate.from_messages([system_message_prompt, human_message_prompt])\n",
    "chat_prompt.format_prompt(\n",
    "    src_lang=\"English\",\n",
    "    dst_lang=\"Chinese\",\n",
    "    user_input=\"Did you eat in this morning?\"\n",
    ").to_messages()"
   ],
   "metadata": {
    "collapsed": false,
    "ExecuteTime": {
     "end_time": "2023-09-11T13:23:12.846502700Z",
     "start_time": "2023-09-11T13:23:12.803874300Z"
    }
   },
   "id": "522ebcf979047136"
  }
 ],
 "metadata": {
  "kernelspec": {
   "display_name": "Python 3",
   "language": "python",
   "name": "python3"
  },
  "language_info": {
   "codemirror_mode": {
    "name": "ipython",
    "version": 2
   },
   "file_extension": ".py",
   "mimetype": "text/x-python",
   "name": "python",
   "nbconvert_exporter": "python",
   "pygments_lexer": "ipython2",
   "version": "2.7.6"
  }
 },
 "nbformat": 4,
 "nbformat_minor": 5
}
