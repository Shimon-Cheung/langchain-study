{
 "cells": [
  {
   "cell_type": "markdown",
   "source": [
    "## 简介\n",
    "\n",
    "LLM的输出为文本，但在程序中除了显示文本，可能希望获得更结构化的数据。这就是输出解析器（Output Parsers）的用武之地。\n",
    "\n",
    "`LangChain` 为输出解析器提供了基础类 `BaseOutputParser`。不同的输出解析器都继承自该类。它们需要实现以下两个函数：\n",
    "\n",
    "- **get_format_instructions**：返回指令指定LLM的输出该如何格式化，该函数在实现类中必须重写。基类中的函数实现如下：\n",
    "  \n",
    "  ```python\n",
    "  def get_format_instructions(self) -> str:\n",
    "    \"\"\"Instructions on how the LLM output should be formatted.\"\"\"\n",
    "    raise NotImplementedError\n",
    "  ```\n",
    "  \n",
    "- **parse**：解析LLM的输出文本为特定的结构。函数签名如下：\n",
    "  \n",
    "  ```python\n",
    "  def parse(self, text: str) -> T\n",
    "  ```"
   ],
   "metadata": {
    "collapsed": false
   },
   "id": "41a64ac66d5074d3"
  },
  {
   "cell_type": "markdown",
   "source": [
    "`BaseOutputParser` 还提供了如下函数供重载：\n",
    "**parse_with_prompt**：基于提示词上下文解析LLM的输出文本为特定结构。该函数在基类中的实现为：\n",
    "\n",
    "```python\n",
    "def parse_with_prompt(self, completion: str, prompt: PromptValue) -> Any:\n",
    "    \"\"\"Parse the output of an LLM call with the input prompt for context.\"\"\"\n",
    "    return self.parse(completion)\n",
    "```"
   ],
   "metadata": {
    "collapsed": false
   },
   "id": "71e907901c3189c3"
  },
  {
   "cell_type": "markdown",
   "source": [
    "## LangChain支持的输出解析器\n",
    "\n",
    "LangChain框架提供了一系列解析器实现来满足应用在不同功能场景中的需求。它们包括且不局限于如下解析器：\n",
    "\n",
    "- List parser\n",
    "- Datetime parser\n",
    "- Enum parser\n",
    "- Auto-fixing parser\n",
    "- Pydantic parser\n",
    "- Retry parser\n",
    "- Structured output parser\n",
    "\n",
    "本讲介绍具有代表性的两款解析器的使用。\n",
    "\n",
    "### List Parser\n",
    "\n",
    "List Parser将逗号分隔的文本解析为列表。"
   ],
   "metadata": {
    "collapsed": false
   },
   "id": "2729cb0ff7fa7e87"
  },
  {
   "cell_type": "code",
   "execution_count": 3,
   "outputs": [
    {
     "data": {
      "text/plain": "['black', 'yellow', 'red', 'green', 'white', 'blue']"
     },
     "execution_count": 3,
     "metadata": {},
     "output_type": "execute_result"
    }
   ],
   "source": [
    "from langchain.output_parsers import CommaSeparatedListOutputParser\n",
    "\n",
    "# 将逗号切分为列表\n",
    "output_parser = CommaSeparatedListOutputParser()\n",
    "output_parser.parse(\"black, yellow, red, green, white, blue\")"
   ],
   "metadata": {
    "collapsed": false,
    "ExecuteTime": {
     "end_time": "2023-09-11T13:42:56.373794400Z",
     "start_time": "2023-09-11T13:42:56.361789700Z"
    }
   },
   "id": "e51db8c89c0002af"
  },
  {
   "cell_type": "markdown",
   "source": [
    "### Structured Output Parser\n",
    "\n",
    "当我们想要类似JSON数据结构，包含多个字段时，可以使用这个输出解析器。该解析器可以生成指令帮助LLM返回结构化数据文本，同时完成文本到结构化数据的解析工作。示例代码如下："
   ],
   "metadata": {
    "collapsed": false
   },
   "id": "c9f721430a0e2f1f"
  },
  {
   "cell_type": "code",
   "execution_count": 5,
   "outputs": [
    {
     "data": {
      "text/plain": "{'答案': '巴黎', '来源': 'https://baike.baidu.com/item/%E6%B3%95%E5%9B%BD/1045'}"
     },
     "execution_count": 5,
     "metadata": {},
     "output_type": "execute_result"
    }
   ],
   "source": [
    "from langchain.output_parsers import StructuredOutputParser, ResponseSchema\n",
    "from langchain.prompts import PromptTemplate, ChatPromptTemplate, HumanMessagePromptTemplate\n",
    "from langchain.llms import OpenAI\n",
    "\n",
    "# 定义响应的结构(JSON)，两个字段 answer和source。\n",
    "response_schemas = [\n",
    "    ResponseSchema(name=\"答案\", description=\"用户问题的答案\"),\n",
    "    ResponseSchema(name=\"来源\", description=\"参考来源回答用户的问题，应该是一个网站。\")\n",
    "]\n",
    "output_parser = StructuredOutputParser.from_response_schemas(response_schemas)\n",
    "\n",
    "# 获取响应格式化的指令\n",
    "format_instructions = output_parser.get_format_instructions()\n",
    "\n",
    "# partial_variables允许在代码中预填充提示此模版的部分变量。这类似于接口，抽象类之间的关系\n",
    "prompt = PromptTemplate(\n",
    "    template=\"尽可能最好地回答用户的问题。\\n{format_instructions}\\n{question}\",\n",
    "    input_variables=[\"question\"],\n",
    "    partial_variables={\"format_instructions\": format_instructions}\n",
    ")\n",
    "\n",
    "model = OpenAI(temperature=0)\n",
    "response = prompt.format_prompt(question=\"法国的首都是什么?\")\n",
    "output = model(response.to_string())\n",
    "output_parser.parse(output)"
   ],
   "metadata": {
    "collapsed": false,
    "ExecuteTime": {
     "end_time": "2023-09-11T13:49:06.818819700Z",
     "start_time": "2023-09-11T13:49:03.767567800Z"
    }
   },
   "id": "843b3098a815b7c0"
  }
 ],
 "metadata": {
  "kernelspec": {
   "display_name": "Python 3",
   "language": "python",
   "name": "python3"
  },
  "language_info": {
   "codemirror_mode": {
    "name": "ipython",
    "version": 2
   },
   "file_extension": ".py",
   "mimetype": "text/x-python",
   "name": "python",
   "nbconvert_exporter": "python",
   "pygments_lexer": "ipython2",
   "version": "2.7.6"
  }
 },
 "nbformat": 4,
 "nbformat_minor": 5
}
