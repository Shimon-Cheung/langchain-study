{
 "cells": [
  {
   "cell_type": "markdown",
   "source": [
    "## 模型简介\n",
    "\n",
    "Langchain所封装的模型分为两类：\n",
    "- 大语言模型 (LLM)\n",
    "- 聊天模型 (Chat Models)\n",
    "\n",
    "在后续的内容中，为简化描述，我们将使用 `LLM` 来指代大语言模型。\n",
    "\n",
    "Langchain的支持众多模型供应商，包括OpenAI、ChatGLM、HuggingFace等。本教程中，我们将以OpenAI为例，后续内容中提到的模型默认为OpenAI提供的模型。\n",
    "\n",
    "Langchain的封装，比如，对OpenAI模型的封装，实际上是指的是对OpenAI API的封装。"
   ],
   "metadata": {
    "collapsed": false
   },
   "id": "a38c503fe1380b4d"
  },
  {
   "cell_type": "markdown",
   "source": [
    "### LLM\n",
    "\n",
    "`LLM` 是一种基于统计的机器学习模型，用于对文本数据进行建模和生成。LLM学习和捕捉文本数据中的语言模式、语法规则和语义关系，以生成连贯并合乎语言规则的文本。\n",
    "\n",
    "在Langchain的环境中，LLM特指文本补全模型（text completion model）。\n",
    "\n",
    "注，文本补全模型是一种基于语言模型的机器学习模型，根据上下文的语境和语言规律，自动推断出最有可能的下一个文本补全。\n",
    "\n",
    "| 输入 | 输出 |\n",
    "| -------- | ------- |\n",
    "| 一条文本内容 | 一条文本内容 |\n",
    "\n",
    "### 聊天模型 (Chat Models)\n",
    "\n",
    "聊天模型是语言模型的一种变体。聊天模型使用语言模型，并提供基于\"聊天消息\"的接口。\n",
    "\n",
    "| 输入 | 输出 |\n",
    "| -------- | ------- |\n",
    "| 一组聊天消息 | 一条聊天消息 |\n",
    "\n",
    "`聊天消息` 除了消息内容文本，还会包含一些其他参数数据。这在后续的内容中会看到。\n",
    "\n",
    "## Langchain与OpenAI模型\n",
    "\n",
    "参考OpenAI [Model endpoint compatibility](https://platform.openai.com/docs/models/model-endpoint-compatibility) 文档，gpt模型都归为了聊天模型，而davinci, curie, babbage, ada模型都归为了文本补全模型。\n",
    "\n",
    "| ENDPOINT | MODEL NAME |\n",
    "| -------- | ------- |\n",
    "| /v1/chat/completions | gpt-4, gpt-4-0613, gpt-4-32k, gpt-4-32k-0613, gpt-3.5-turbo, gpt-3.5-turbo-0613, gpt-3.5-turbo-16k, gpt-3.5-turbo-16k-0613 |\n",
    "| /v1/completions | (Legacy)\ttext-davinci-003, text-davinci-002, text-davinci-001, text-curie-001, text-babbage-001, text-ada-001, davinci, curie, babbage, ada |\n",
    "\n",
    "Langchain提供接口集成不同的模型。为了便于切换模型，Langchain将不同模型抽象为相同的接口 `BaseLanguageModel`，并提供 `predict` 和 `predict_messages` 函数来调用模型。\n",
    "\n",
    "当使用LLM时推荐使用predict函数，当使用聊天模型时推荐使用predict_messages函数。"
   ],
   "metadata": {
    "collapsed": false
   },
   "id": "1c2729edef21de90"
  },
  {
   "cell_type": "markdown",
   "source": [
    "### 与LLM的交互\n",
    "\n",
    "与LLM的交互，我们需要使用 `langchain.llms` 模块中的 `OpenAI` 类。"
   ],
   "metadata": {
    "collapsed": false
   },
   "id": "7c472ca062219cb4"
  },
  {
   "cell_type": "code",
   "execution_count": 2,
   "outputs": [
    {
     "name": "stdout",
     "output_type": "stream",
     "text": [
      "\n",
      "\n",
      "AI（Artificial Intelligence）是指人工智能，是指计算机系统能够完成更加复杂的任务，而且能够像人一样进行思考和决策，并且能够自主地学习和学会新的知识。人工智能领域涉及模式识别、语音识别、自然语言处理、图像识别、机器学习、神经网络、机器人技术以及计算机视觉等\n"
     ]
    }
   ],
   "source": [
    "from langchain.llms import OpenAI\n",
    "\n",
    "llm = OpenAI(model_name=\"text-davinci-003\")\n",
    "response = llm.predict(\"是什么是AI?\")\n",
    "print(response)"
   ],
   "metadata": {
    "collapsed": false,
    "ExecuteTime": {
     "end_time": "2023-09-10T11:59:37.789983Z",
     "start_time": "2023-09-10T11:59:28.819320800Z"
    }
   },
   "id": "38aff3a1607d4322"
  },
  {
   "cell_type": "markdown",
   "source": [
    "### 与聊天模型的交互\n",
    "\n",
    "与聊天模型的交互，我们需要使用 `langchain.chat_models` 模块中的 `ChatOpenAI` 类。"
   ],
   "metadata": {
    "collapsed": false
   },
   "id": "9ccc2076ebab1462"
  },
  {
   "cell_type": "code",
   "execution_count": 5,
   "outputs": [
    {
     "name": "stdout",
     "output_type": "stream",
     "text": [
      "content='AI是人工智能（Artificial Intelligence）的缩写，指的是一种模拟人类智能的技术和系统。它通过模拟人类的思维和学习能力，使计算机能够执行类似于人类的智能任务，如语音识别、图像识别、自然语言处理、决策制定等。AI的目标是使计算机能够理解、学习和解决问题，从而提高工作效率和生活质量。AI技术包括机器学习、深度学习、自然语言处理、计算机视觉等。' additional_kwargs={} example=False\n"
     ]
    }
   ],
   "source": [
    "from langchain.chat_models import ChatOpenAI\n",
    "from langchain.schema import AIMessage, HumanMessage, SystemMessage\n",
    "\n",
    "chat = ChatOpenAI(temperature=0, model_name=\"gpt-3.5-turbo\")\n",
    "response = chat.predict_messages([\n",
    "    HumanMessage(content=\"什么是AI?\")\n",
    "])\n",
    "print(response)"
   ],
   "metadata": {
    "collapsed": false,
    "ExecuteTime": {
     "end_time": "2023-09-10T12:06:15.791470100Z",
     "start_time": "2023-09-10T12:06:08.600284Z"
    }
   },
   "id": "5e6cc866c228ab69"
  },
  {
   "cell_type": "markdown",
   "source": [
    "通过以下代码我们查看一下 `response` 变量的类型："
   ],
   "metadata": {
    "collapsed": false
   },
   "id": "4cacef3da878361"
  },
  {
   "cell_type": "code",
   "execution_count": 6,
   "outputs": [
    {
     "data": {
      "text/plain": "langchain.schema.messages.AIMessage"
     },
     "execution_count": 6,
     "metadata": {},
     "output_type": "execute_result"
    }
   ],
   "source": [
    "response.__class__"
   ],
   "metadata": {
    "collapsed": false,
    "ExecuteTime": {
     "end_time": "2023-09-10T12:06:19.328805Z",
     "start_time": "2023-09-10T12:06:19.304085Z"
    }
   },
   "id": "77a52496a6266314"
  },
  {
   "cell_type": "markdown",
   "source": [
    "可以看到，它是一个 `AIMessage` 类型的对象。"
   ],
   "metadata": {
    "collapsed": false
   },
   "id": "be03b8823c14aa6c"
  },
  {
   "cell_type": "markdown",
   "source": [
    "接下来我们使用 `SystemMessage` 指令来指定模型的行为。如下代码指定模型对AI一无所知，在回答AI相关问题时，回答“我不知道”。"
   ],
   "metadata": {
    "collapsed": false
   },
   "id": "f8b7699192d49a8a"
  },
  {
   "cell_type": "code",
   "execution_count": 8,
   "outputs": [
    {
     "name": "stdout",
     "output_type": "stream",
     "text": [
      "content='我不知道。' additional_kwargs={} example=False\n"
     ]
    }
   ],
   "source": [
    "response = chat.predict_messages([\n",
    "    SystemMessage(\n",
    "        content=\"你是一个对人工智能一无所知的聊天机器人。当被问及人工智能时，你必须说“我不知道”\"),\n",
    "    HumanMessage(content=\"什么是深度学习?\")\n",
    "])\n",
    "print(response)"
   ],
   "metadata": {
    "collapsed": false,
    "ExecuteTime": {
     "end_time": "2023-09-10T12:08:21.444080300Z",
     "start_time": "2023-09-10T12:08:18.906104600Z"
    }
   },
   "id": "3e56c3d754516c75"
  },
  {
   "cell_type": "markdown",
   "source": [
    "#### 3个消息类\n",
    "\n",
    "Langchain框架提供了三个消息类，分别是 `AIMessage`、`HumanMessage` 和 `SystemMessage`。它们对应了OpenAI聊天模型API支持的不同角色 `assistant`、`user` 和 `system`。请参考 [OpenAI API文档 - Chat - Role](https://platform.openai.com/docs/api-reference/chat/create#chat/create-role)。\n",
    "\n",
    "| Langchain类 | OpenAI角色 | 作用 |\n",
    "| -------- | ------- | ------- |\n",
    "| AIMessage | assistant | 模型回答的消息 |\n",
    "| HumanMessage | user | 用户向模型的请求或提问 |\n",
    "| SystemMessage | system | 系统指令，用于指定模型的行为 |"
   ],
   "metadata": {
    "collapsed": false
   },
   "id": "5d709edb3a5200f5"
  }
 ],
 "metadata": {
  "kernelspec": {
   "display_name": "Python 3",
   "language": "python",
   "name": "python3"
  },
  "language_info": {
   "codemirror_mode": {
    "name": "ipython",
    "version": 2
   },
   "file_extension": ".py",
   "mimetype": "text/x-python",
   "name": "python",
   "nbconvert_exporter": "python",
   "pygments_lexer": "ipython2",
   "version": "2.7.6"
  }
 },
 "nbformat": 4,
 "nbformat_minor": 5
}
